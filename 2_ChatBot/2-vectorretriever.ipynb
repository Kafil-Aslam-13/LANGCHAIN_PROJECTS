{
 "cells": [
  {
   "cell_type": "markdown",
   "id": "a909fc96",
   "metadata": {},
   "source": [
    "# Vector Stores and Retrievers\n",
    "\n",
    "here we will familiarize with langchain's vector store and retriever abstractions.These abstractions are designed to support retrieval of data -- from vector databases and other sources -- for integration with LLM work flows. They are important for Applications that fetch data to be reasoned over as part of model inference, as in case of Retrieval - Augumented - Generation\n",
    "\n",
    "WE WILL COVER:\n",
    "1. Documents\n",
    "2. Vector Stores \n",
    "3. Retrievers"
   ]
  },
  {
   "cell_type": "markdown",
   "id": "63d04dd1",
   "metadata": {},
   "source": [
    "### Documents \n",
    "Langchain implements a Document abstraction , which is intended to represent a unit of text and associated metadata . It has 2 (two) Attributes:\n",
    "- page_content: a string representing the content,\n",
    "- metadata: a dict containing arbitary metadata.\n",
    "the metadata attribute can capture info about the source of document, its rlnship to other documents , and other info. Note that an individualn document object often represents a chunk of a larger document."
   ]
  },
  {
   "cell_type": "code",
   "execution_count": 1,
   "id": "359dd24d",
   "metadata": {},
   "outputs": [],
   "source": [
    "## how to go ahead and create document \n",
    "from langchain_core.documents import Document\n",
    "\n",
    "documents=[\n",
    "    Document(\n",
    "        page_content=\"Dogs are great companions , known for their loyality and friendliness\",\n",
    "        metadata={\"source\":\"mammal-pets-doc\"},\n",
    "    ),\n",
    "    Document(\n",
    "        page_content=\"Cats are independent pets that often enjoy their own space\",\n",
    "        metadata={\"source\":\"mammal-pets-doc\"},\n",
    "    ),\n",
    "    Document(\n",
    "        page_content=\"Goldfish are popular pets for beginners,requiring relatively simple care\",\n",
    "        metadata={\"source\":\"fish-pets-doc\"},\n",
    "    ),\n",
    "    Document(\n",
    "        page_content=\"Parrots are intelligent birds capable of mimiking human speech\",\n",
    "        metadata={\"source\":\"bird-pets-doc\"},\n",
    "    ),\n",
    "    Document(\n",
    "        page_content=\"Rabbits are social animals that need plenty of space to hop around\",\n",
    "        metadata={\"source\":\"mammal-pets-doc\"},\n",
    "    )\n",
    "]"
   ]
  },
  {
   "cell_type": "code",
   "execution_count": 2,
   "id": "70ef8601",
   "metadata": {},
   "outputs": [
    {
     "data": {
      "text/plain": [
       "[Document(metadata={'source': 'mammal-pets-doc'}, page_content='Dogs are great companions , known for their loyality and friendliness'),\n",
       " Document(metadata={'source': 'mammal-pets-doc'}, page_content='Cats are independent pets that often enjoy their own space'),\n",
       " Document(metadata={'source': 'fish-pets-doc'}, page_content='Goldfish are popular pets for beginners,requiring relatively simple care'),\n",
       " Document(metadata={'source': 'bird-pets-doc'}, page_content='Parrots are intelligent birds capable of mimiking human speech'),\n",
       " Document(metadata={'source': 'mammal-pets-doc'}, page_content='Rabbits are social animals that need plenty of space to hop around')]"
      ]
     },
     "execution_count": 2,
     "metadata": {},
     "output_type": "execute_result"
    }
   ],
   "source": [
    "documents"
   ]
  },
  {
   "cell_type": "code",
   "execution_count": 3,
   "id": "3ba9b7e4",
   "metadata": {},
   "outputs": [],
   "source": [
    "import os\n",
    "from dotenv import load_dotenv\n",
    "from langchain_groq import ChatGroq\n",
    "load_dotenv()\n",
    "groq_api_key=os.getenv(\"GROQ_API_KEY\")\n",
    "os.environ[\"HF_LANGCHAIN_TOKEN\"]=os.getenv(\"HF_LANGCHAIN_TOKEN\")\n",
    "\n",
    "llm=ChatGroq(model=\"Llama3-8b-8192\",groq_api_key=groq_api_key)\n",
    "\n"
   ]
  },
  {
   "cell_type": "code",
   "execution_count": 4,
   "id": "61d3340a",
   "metadata": {},
   "outputs": [
    {
     "name": "stderr",
     "output_type": "stream",
     "text": [
      "c:\\Users\\aslam\\Desktop\\LangChain\\langenv\\lib\\site-packages\\tqdm\\auto.py:21: TqdmWarning: IProgress not found. Please update jupyter and ipywidgets. See https://ipywidgets.readthedocs.io/en/stable/user_install.html\n",
      "  from .autonotebook import tqdm as notebook_tqdm\n"
     ]
    }
   ],
   "source": [
    "## embedding wrt huggingface\n",
    "from langchain_huggingface import HuggingFaceEmbeddings\n",
    "embeddings=HuggingFaceEmbeddings(model_name=\"all-MiniLM-L6-v2\")"
   ]
  },
  {
   "cell_type": "code",
   "execution_count": 5,
   "id": "23848bf6",
   "metadata": {},
   "outputs": [
    {
     "data": {
      "text/plain": [
       "<langchain_chroma.vectorstores.Chroma at 0x2370fa2f040>"
      ]
     },
     "execution_count": 5,
     "metadata": {},
     "output_type": "execute_result"
    }
   ],
   "source": [
    "## vector store\n",
    "from langchain_chroma import Chroma\n",
    "\n",
    "vectorstore=Chroma.from_documents(documents,embedding=embeddings)\n",
    "vectorstore\n",
    "\n"
   ]
  },
  {
   "cell_type": "code",
   "execution_count": 6,
   "id": "34f97da4",
   "metadata": {},
   "outputs": [
    {
     "data": {
      "text/plain": [
       "[Document(id='26420b1a-63c4-4e59-b100-cc9df5e0f201', metadata={'source': 'mammal-pets-doc'}, page_content='Cats are independent pets that often enjoy their own space'),\n",
       " Document(id='afcfee5c-e14b-4161-817a-a1b5ebbbb84f', metadata={'source': 'mammal-pets-doc'}, page_content='Dogs are great companions , known for their loyality and friendliness'),\n",
       " Document(id='4412218b-2d31-4c69-b99b-38506cc5a24a', metadata={'source': 'mammal-pets-doc'}, page_content='Rabbits are social animals that need plenty of space to hop around'),\n",
       " Document(id='1e4383cc-6fa8-4c43-8b9d-ec94277825ef', metadata={'source': 'bird-pets-doc'}, page_content='Parrots are intelligent birds capable of mimiking human speech')]"
      ]
     },
     "execution_count": 6,
     "metadata": {},
     "output_type": "execute_result"
    }
   ],
   "source": [
    "vectorstore.similarity_search(\"cat\")"
   ]
  },
  {
   "cell_type": "code",
   "execution_count": 7,
   "id": "e342a8df",
   "metadata": {},
   "outputs": [
    {
     "data": {
      "text/plain": [
       "[Document(id='afcfee5c-e14b-4161-817a-a1b5ebbbb84f', metadata={'source': 'mammal-pets-doc'}, page_content='Dogs are great companions , known for their loyality and friendliness'),\n",
       " Document(id='26420b1a-63c4-4e59-b100-cc9df5e0f201', metadata={'source': 'mammal-pets-doc'}, page_content='Cats are independent pets that often enjoy their own space'),\n",
       " Document(id='4412218b-2d31-4c69-b99b-38506cc5a24a', metadata={'source': 'mammal-pets-doc'}, page_content='Rabbits are social animals that need plenty of space to hop around'),\n",
       " Document(id='1e4383cc-6fa8-4c43-8b9d-ec94277825ef', metadata={'source': 'bird-pets-doc'}, page_content='Parrots are intelligent birds capable of mimiking human speech')]"
      ]
     },
     "execution_count": 7,
     "metadata": {},
     "output_type": "execute_result"
    }
   ],
   "source": [
    "## async query\n",
    "await vectorstore.asimilarity_search(\"loyal\")"
   ]
  },
  {
   "cell_type": "code",
   "execution_count": 8,
   "id": "cc38f0e8",
   "metadata": {},
   "outputs": [
    {
     "data": {
      "text/plain": [
       "[(Document(id='26420b1a-63c4-4e59-b100-cc9df5e0f201', metadata={'source': 'mammal-pets-doc'}, page_content='Cats are independent pets that often enjoy their own space'),\n",
       "  0.9436442255973816),\n",
       " (Document(id='afcfee5c-e14b-4161-817a-a1b5ebbbb84f', metadata={'source': 'mammal-pets-doc'}, page_content='Dogs are great companions , known for their loyality and friendliness'),\n",
       "  1.554835557937622),\n",
       " (Document(id='4412218b-2d31-4c69-b99b-38506cc5a24a', metadata={'source': 'mammal-pets-doc'}, page_content='Rabbits are social animals that need plenty of space to hop around'),\n",
       "  1.5573378801345825),\n",
       " (Document(id='1e4383cc-6fa8-4c43-8b9d-ec94277825ef', metadata={'source': 'bird-pets-doc'}, page_content='Parrots are intelligent birds capable of mimiking human speech'),\n",
       "  1.627744197845459)]"
      ]
     },
     "execution_count": 8,
     "metadata": {},
     "output_type": "execute_result"
    }
   ],
   "source": [
    "vectorstore.similarity_search_with_score(\"cat\")"
   ]
  },
  {
   "cell_type": "markdown",
   "id": "3a8bdf87",
   "metadata": {},
   "source": [
    "### Retrievers\n",
    "\n",
    "langchain vectorstore objects do not subclass runnable, and cannot be immediately be integrated into Langchain Expression Language Chains.\n",
    "\n",
    "LangChain Retrievers are runnables , so they implement a standard set of methods(e.g synchronous and asynchronous invoke and batch operations) and are designed to be incorporated in LCEL chains.\n",
    "\n",
    "We can create a simple version of this , without subclassing retriever. if we choose what method we wish to use to retrieve dociuments , we can create runnable easily . \n",
    "\n"
   ]
  },
  {
   "cell_type": "code",
   "execution_count": null,
   "id": "2a48a12e",
   "metadata": {},
   "outputs": [
    {
     "data": {
      "text/plain": [
       "[[Document(id='26420b1a-63c4-4e59-b100-cc9df5e0f201', metadata={'source': 'mammal-pets-doc'}, page_content='Cats are independent pets that often enjoy their own space')],\n",
       " [Document(id='afcfee5c-e14b-4161-817a-a1b5ebbbb84f', metadata={'source': 'mammal-pets-doc'}, page_content='Dogs are great companions , known for their loyality and friendliness')]]"
      ]
     },
     "execution_count": 9,
     "metadata": {},
     "output_type": "execute_result"
    }
   ],
   "source": [
    "## how to do it \n",
    "from typing import List\n",
    "from langchain_core.documents import Document\n",
    "\n",
    "from langchain_core.runnables import RunnableLambda\n",
    "\n",
    "\n",
    "## this below is not good way of getting retrievers from a function\n",
    "retriever=RunnableLambda(vectorstore.similarity_search).bind(k=1)\n",
    "retriever.batch([\"cat\",\"dog\"])\n"
   ]
  },
  {
   "cell_type": "markdown",
   "id": "fabeea98",
   "metadata": {},
   "source": [
    "#### 2nd Technique\n",
    "vectorstore implement as_retriever method that will generate a Retriever , specifically a vectorstore retriever . these retrievers include specific search type and search_kwargs attributes that identify what methods of underlying vector store to call , and how to parameterize them .\n",
    "for instance we can replicate the above with following:"
   ]
  },
  {
   "cell_type": "code",
   "execution_count": 10,
   "id": "7129230f",
   "metadata": {},
   "outputs": [
    {
     "data": {
      "text/plain": [
       "[[Document(id='26420b1a-63c4-4e59-b100-cc9df5e0f201', metadata={'source': 'mammal-pets-doc'}, page_content='Cats are independent pets that often enjoy their own space')],\n",
       " [Document(id='afcfee5c-e14b-4161-817a-a1b5ebbbb84f', metadata={'source': 'mammal-pets-doc'}, page_content='Dogs are great companions , known for their loyality and friendliness')],\n",
       " [Document(id='d8ca7ed4-cae2-43d0-b02e-e2e4a9ebd3de', metadata={'source': 'fish-pets-doc'}, page_content='Goldfish are popular pets for beginners,requiring relatively simple care')]]"
      ]
     },
     "execution_count": 10,
     "metadata": {},
     "output_type": "execute_result"
    }
   ],
   "source": [
    "retriever = vectorstore.as_retriever(\n",
    "    search_type=\"similarity\",\n",
    "    search_kwargs={\"k\":1}\n",
    ")\n",
    "retriever.batch([\"cat\",\"dog\",\"fish\"])"
   ]
  },
  {
   "cell_type": "code",
   "execution_count": 11,
   "id": "fd78d6aa",
   "metadata": {},
   "outputs": [
    {
     "data": {
      "text/plain": [
       "AIMessage(content=\"Based on the provided context, here's some information about dogs:\\n\\nDogs are great companions, known for their loyalty and friendliness.\", additional_kwargs={}, response_metadata={'token_usage': {'completion_tokens': 28, 'prompt_tokens': 92, 'total_tokens': 120, 'completion_time': 0.02409142, 'prompt_time': 0.019756759, 'queue_time': 0.264591046, 'total_time': 0.043848179}, 'model_name': 'Llama3-8b-8192', 'system_fingerprint': 'fp_c0b3855449', 'service_tier': 'on_demand', 'finish_reason': 'stop', 'logprobs': None}, id='run--10344e20-e6aa-49e5-8655-ac6849533121-0', usage_metadata={'input_tokens': 92, 'output_tokens': 28, 'total_tokens': 120})"
      ]
     },
     "execution_count": 11,
     "metadata": {},
     "output_type": "execute_result"
    }
   ],
   "source": [
    "## how to integrate retriever along with chain\n",
    "from langchain_core.prompts import ChatPromptTemplate\n",
    "from langchain_core.runnables import RunnablePassthrough\n",
    "\n",
    "message=\"\"\"\n",
    "Answer the question by provided context\n",
    "\n",
    "{question}\n",
    "\n",
    "context:\n",
    "{context}\n",
    "\"\"\"\n",
    "\n",
    "prompt=ChatPromptTemplate.from_messages([\"human\",message])\n",
    "\n",
    "rag_chain={\"context\":retriever,\"question\":RunnablePassthrough()}|prompt|llm\n",
    "response=rag_chain.invoke(\"tell me about dog\")\n",
    "\n",
    "response\n"
   ]
  },
  {
   "cell_type": "code",
   "execution_count": null,
   "id": "8ae35115",
   "metadata": {},
   "outputs": [],
   "source": []
  }
 ],
 "metadata": {
  "kernelspec": {
   "display_name": "Python 3",
   "language": "python",
   "name": "python3"
  },
  "language_info": {
   "codemirror_mode": {
    "name": "ipython",
    "version": 3
   },
   "file_extension": ".py",
   "mimetype": "text/x-python",
   "name": "python",
   "nbconvert_exporter": "python",
   "pygments_lexer": "ipython3",
   "version": "3.10.0"
  }
 },
 "nbformat": 4,
 "nbformat_minor": 5
}
