{
 "cells": [
  {
   "cell_type": "markdown",
   "id": "f070f1dc",
   "metadata": {},
   "source": [
    "# Building A Chatbot\n",
    "\n",
    "here we will go over an example of how to design and implement an LLM-powered chatbot .This chatbot will be able to have a conversation and remember previous interactions.\n",
    "\n",
    "Note that this chatbot that we will build will only use the language model to have conversation.There are several other related concepts we may be looking for :\n",
    "\n",
    "  . Conversational RAG : Enable a ChatBot experience     over an external source of data\n",
    "  . Agents: Build a chatbot that can take actions\n",
    "\n",
    "here we will cover basics which will be helpful for these two more advanced topics\n"
   ]
  },
  {
   "cell_type": "code",
   "execution_count": 1,
   "id": "0bbcd101",
   "metadata": {},
   "outputs": [],
   "source": [
    "import os\n",
    "from dotenv import load_dotenv\n",
    "load_dotenv()\n",
    "groq_api_key=os.getenv(\"GROQ_API_KEY\")"
   ]
  },
  {
   "cell_type": "code",
   "execution_count": 2,
   "id": "1963536e",
   "metadata": {},
   "outputs": [],
   "source": [
    "## calling our llm model\n",
    "from langchain_groq import ChatGroq\n",
    "model=ChatGroq(model=\"Gemma2-9b-It\",groq_api_key=groq_api_key)\n"
   ]
  },
  {
   "cell_type": "code",
   "execution_count": null,
   "id": "92905fd3",
   "metadata": {},
   "outputs": [],
   "source": []
  },
  {
   "cell_type": "code",
   "execution_count": null,
   "id": "9a3b52dd",
   "metadata": {},
   "outputs": [
    {
     "data": {
      "text/plain": [
       "AIMessage(content=\"Hi Kafil, it's nice to meet you! \\n\\nThat's fascinating! As an AI, I'm always interested in learning more about the people who build and work with models like me. What kind of work are you doing as an LLM engineer? \\n\\nAre you working on a specific project you'd like to talk about, or are you just interested in chatting about the field?\\n\", additional_kwargs={}, response_metadata={'token_usage': {'completion_tokens': 87, 'prompt_tokens': 22, 'total_tokens': 109, 'completion_time': 0.158181818, 'prompt_time': 0.001324689, 'queue_time': 0.251691882, 'total_time': 0.159506507}, 'model_name': 'Gemma2-9b-It', 'system_fingerprint': 'fp_10c08bf97d', 'service_tier': 'on_demand', 'finish_reason': 'stop', 'logprobs': None}, id='run--49490f97-b2c7-41e4-8594-1e49adfaf1e6-0', usage_metadata={'input_tokens': 22, 'output_tokens': 87, 'total_tokens': 109})"
      ]
     },
     "execution_count": 3,
     "metadata": {},
     "output_type": "execute_result"
    }
   ],
   "source": [
    "from langchain_core.messages import HumanMessage\n",
    "model.invoke([HumanMessage(content='hi,my name is kafil and i am llm engineer')])"
   ]
  },
  {
   "cell_type": "code",
   "execution_count": null,
   "id": "8edda453",
   "metadata": {},
   "outputs": [
    {
     "data": {
      "text/plain": [
       "AIMessage(content=\"You said your name is Kafil and you're an LLM engineer!  \\n\\nIs there anything else you'd like to tell me about yourself or your work? 😊  I'm eager to learn more. \\n\", additional_kwargs={}, response_metadata={'token_usage': {'completion_tokens': 49, 'prompt_tokens': 127, 'total_tokens': 176, 'completion_time': 0.089090909, 'prompt_time': 0.003368338, 'queue_time': 0.253719919, 'total_time': 0.092459247}, 'model_name': 'Gemma2-9b-It', 'system_fingerprint': 'fp_10c08bf97d', 'service_tier': 'on_demand', 'finish_reason': 'stop', 'logprobs': None}, id='run--e7cd722f-a618-4932-ba7c-f5fce7012606-0', usage_metadata={'input_tokens': 127, 'output_tokens': 49, 'total_tokens': 176})"
      ]
     },
     "execution_count": 4,
     "metadata": {},
     "output_type": "execute_result"
    }
   ],
   "source": [
    "from langchain_core.messages import AIMessage\n",
    "model.invoke(\n",
    "    [\n",
    "        HumanMessage(content='hi,my name is kafil and i am llm engineer'),\n",
    "        AIMessage(content=\"Hi Kafil, it's nice to meet you! \\n\\nThat's fascinating! As an AI, I'm always interested in learning more about the people who build and work with models like me. What kind of work are you doing as an LLM engineer? \\n\\nAre you working on a specific project you'd like to talk about, or are you just interested in chatting about the field?\\n\"),\n",
    "        HumanMessage(content='hey whats my name and what do i do?')\n",
    "    ]\n",
    ")\n",
    "## we observe that it is able to rememmber our history of conversation"
   ]
  },
  {
   "cell_type": "markdown",
   "id": "fd56aba5",
   "metadata": {},
   "source": [
    "# sessions are managed --> message history\n",
    "\n",
    "we can use a Message History class to wrap our model and make it stateful. This will help keep track of inputs and outputs of the model , and store them in some Datastore.\n",
    "Future Interactions will then Load Those Messages and pass into the Chain AS Part of the Input."
   ]
  },
  {
   "cell_type": "code",
   "execution_count": 7,
   "id": "07f838c8",
   "metadata": {},
   "outputs": [],
   "source": [
    "from langchain_community.chat_message_histories import ChatMessageHistory\n",
    "from langchain_core.chat_history import BaseChatMessageHistory\n",
    "from langchain_core.runnables.history import RunnableWithMessageHistory\n",
    "\n",
    "\n",
    "store={}\n",
    "\n",
    "## when different users are chatting with llm model how are we gonna make sure that 1 session is ci=ompletely diffeerent from another session.\n",
    "## for that we will be creating a  very important function named get_session_history\n",
    "def get_session_history(session_id:str)-> BaseChatMessageHistory:\n",
    "    if session_id not in store:\n",
    "        store[session_id]=ChatMessageHistory()\n",
    "\n",
    "    return store[session_id]\n",
    "\n",
    "\n",
    "# this fn will be creating a session id of str type and return type will be (-> basechatmessagehistory)\n",
    "# session id will distinguish 1 session id with another\n",
    "\n",
    "with_message_history=RunnableWithMessageHistory(model,get_session_history)\n"
   ]
  },
  {
   "cell_type": "code",
   "execution_count": 6,
   "id": "d7c310b6",
   "metadata": {},
   "outputs": [],
   "source": [
    "config={\"configurable\":{\"session_id\":\"chat1\"}}"
   ]
  },
  {
   "cell_type": "code",
   "execution_count": null,
   "id": "58b9031a",
   "metadata": {},
   "outputs": [],
   "source": [
    "response=with_message_history.invoke(\n",
    "    [\n",
    "        HumanMessage(content='hi i am kafil . i m an ai engineer')\n",
    "    ],config=config\n",
    ")"
   ]
  },
  {
   "cell_type": "code",
   "execution_count": 11,
   "id": "1b0dcea6",
   "metadata": {},
   "outputs": [
    {
     "data": {
      "text/plain": [
       "\"Hi Kafil!  Welcome!\\n\\nIt's great to meet another AI enthusiast.  What kind of AI work are you involved in? 🤖  I'm always eager to learn about new projects and applications. 😊 \\n\\n\""
      ]
     },
     "execution_count": 11,
     "metadata": {},
     "output_type": "execute_result"
    }
   ],
   "source": [
    "response.content"
   ]
  },
  {
   "cell_type": "code",
   "execution_count": 12,
   "id": "4d2b5d3e",
   "metadata": {},
   "outputs": [
    {
     "data": {
      "text/plain": [
       "AIMessage(content='Your name is Kafil.  😊  \\n\\nI remembered from our earlier conversation!  What can I help you with today?\\n', additional_kwargs={}, response_metadata={'token_usage': {'completion_tokens': 29, 'prompt_tokens': 159, 'total_tokens': 188, 'completion_time': 0.052727273, 'prompt_time': 0.004531875, 'queue_time': 0.256362352, 'total_time': 0.057259148}, 'model_name': 'Gemma2-9b-It', 'system_fingerprint': 'fp_10c08bf97d', 'service_tier': 'on_demand', 'finish_reason': 'stop', 'logprobs': None}, id='run--f0867ed9-2f24-4e94-b02b-94e00afdc9d6-0', usage_metadata={'input_tokens': 159, 'output_tokens': 29, 'total_tokens': 188})"
      ]
     },
     "execution_count": 12,
     "metadata": {},
     "output_type": "execute_result"
    }
   ],
   "source": [
    "with_message_history.invoke(\n",
    "    [HumanMessage(content=\"whats my name?\")],config=config\n",
    ")"
   ]
  },
  {
   "cell_type": "code",
   "execution_count": 13,
   "id": "d4c00165",
   "metadata": {},
   "outputs": [
    {
     "data": {
      "text/plain": [
       "AIMessage(content=\"As an AI, I have no access to your personal information, including your name. If you'd like to tell me your name, I'd be happy to know! 😊\\n\", additional_kwargs={}, response_metadata={'token_usage': {'completion_tokens': 40, 'prompt_tokens': 13, 'total_tokens': 53, 'completion_time': 0.072727273, 'prompt_time': 0.001249271, 'queue_time': 0.249029944, 'total_time': 0.073976544}, 'model_name': 'Gemma2-9b-It', 'system_fingerprint': 'fp_10c08bf97d', 'service_tier': 'on_demand', 'finish_reason': 'stop', 'logprobs': None}, id='run--b2083744-ec20-41dc-b61b-220b31c64ca3-0', usage_metadata={'input_tokens': 13, 'output_tokens': 40, 'total_tokens': 53})"
      ]
     },
     "execution_count": 13,
     "metadata": {},
     "output_type": "execute_result"
    }
   ],
   "source": [
    "## changing config i.e session id\n",
    "config1={\"configurable\":{\"session_id\":\"chat2\"}}\n",
    "with_message_history.invoke(\n",
    "    [HumanMessage(content=\"whats my name?\")],config=config1\n",
    ")"
   ]
  },
  {
   "cell_type": "code",
   "execution_count": 14,
   "id": "953d0d7f",
   "metadata": {},
   "outputs": [
    {
     "data": {
      "text/plain": [
       "AIMessage(content=\"Hi Kaif, it's nice to meet you!  \\n\\nIs there anything I can help you with today?  \\n\\n\", additional_kwargs={}, response_metadata={'token_usage': {'completion_tokens': 29, 'prompt_tokens': 66, 'total_tokens': 95, 'completion_time': 0.052727273, 'prompt_time': 0.002196421, 'queue_time': 0.254026794, 'total_time': 0.054923694}, 'model_name': 'Gemma2-9b-It', 'system_fingerprint': 'fp_10c08bf97d', 'service_tier': 'on_demand', 'finish_reason': 'stop', 'logprobs': None}, id='run--679f4b4f-c9ad-468c-a360-279c7ab85fc0-0', usage_metadata={'input_tokens': 66, 'output_tokens': 29, 'total_tokens': 95})"
      ]
     },
     "execution_count": 14,
     "metadata": {},
     "output_type": "execute_result"
    }
   ],
   "source": [
    "with_message_history.invoke(\n",
    "    [HumanMessage(content=\"my name is kaif\")],config=config1\n",
    ")"
   ]
  },
  {
   "cell_type": "code",
   "execution_count": 16,
   "id": "2fd296f9",
   "metadata": {},
   "outputs": [
    {
     "data": {
      "text/plain": [
       "'Your name is Kaif!  \\n\\nI remember. 😊  \\n\\nIs there something else I can help you with?'"
      ]
     },
     "execution_count": 16,
     "metadata": {},
     "output_type": "execute_result"
    }
   ],
   "source": [
    "response=with_message_history.invoke(\n",
    "    [HumanMessage(content=\"whats my name?\")],config=config1\n",
    ")\n",
    "response.content"
   ]
  },
  {
   "cell_type": "markdown",
   "id": "e2e3a5da",
   "metadata": {},
   "source": [
    "## Prompt Templates\n",
    "\n",
    "Prompt Templates help to turn raw user information into a formt that the LLM can work with . In this case , the raw user input is just a message, which we are passing to llm . Lets make it a bit more complicated.\n",
    "First, lets add in a system message with some custom instruction (but still taking m,essage as input ),next, we will add more input besides just the message"
   ]
  },
  {
   "cell_type": "code",
   "execution_count": 17,
   "id": "2c59920b",
   "metadata": {},
   "outputs": [],
   "source": [
    "from langchain_core.prompts import ChatPromptTemplate,MessagesPlaceholder\n",
    "prompt=ChatPromptTemplate.from_messages([\n",
    "    (\"system\",\"you are a helpful assistant . answer all questions to the best of your ability\"),\n",
    "    MessagesPlaceholder(variable_name=\"messages\")\n",
    "])\n",
    "\n",
    "chain=prompt|model"
   ]
  },
  {
   "cell_type": "code",
   "execution_count": 18,
   "id": "e482c9c9",
   "metadata": {},
   "outputs": [
    {
     "data": {
      "text/plain": [
       "AIMessage(content=\"Hello Kafil! 👋\\n\\nIt's nice to meet you. I'm happy to help with any questions you have. Just ask away! 😊  \\n\\nWhat can I do for you today?  \\n\\n\", additional_kwargs={}, response_metadata={'token_usage': {'completion_tokens': 46, 'prompt_tokens': 32, 'total_tokens': 78, 'completion_time': 0.083636364, 'prompt_time': 0.001555529, 'queue_time': 0.244384456, 'total_time': 0.085191893}, 'model_name': 'Gemma2-9b-It', 'system_fingerprint': 'fp_10c08bf97d', 'service_tier': 'on_demand', 'finish_reason': 'stop', 'logprobs': None}, id='run--a67f3396-8125-460a-881b-ab7d93c341bb-0', usage_metadata={'input_tokens': 32, 'output_tokens': 46, 'total_tokens': 78})"
      ]
     },
     "execution_count": 18,
     "metadata": {},
     "output_type": "execute_result"
    }
   ],
   "source": [
    "chain.invoke({\"messages\":[HumanMessage(content=\"hi m,y name is kafil\")]})"
   ]
  },
  {
   "cell_type": "code",
   "execution_count": 19,
   "id": "a41539b1",
   "metadata": {},
   "outputs": [],
   "source": [
    "# how to invoke this with chat message history\n",
    "with_message_history=RunnableWithMessageHistory(chain,get_session_history)"
   ]
  },
  {
   "cell_type": "code",
   "execution_count": 21,
   "id": "2b745e8d",
   "metadata": {},
   "outputs": [
    {
     "data": {
      "text/plain": [
       "\"Hi Kafil, it's nice to officially meet you!  \\n\\nIs there anything I can help you with today?  😊 \\n\\n\""
      ]
     },
     "execution_count": 21,
     "metadata": {},
     "output_type": "execute_result"
    }
   ],
   "source": [
    "config2={\"configurable\":{\"session_id\":\"chat3\"}}\n",
    "response=with_message_history.invoke(\n",
    "    [HumanMessage(content=\"my name is kafil\")],config=config2\n",
    ")\n",
    "response.content"
   ]
  },
  {
   "cell_type": "code",
   "execution_count": 22,
   "id": "3ec2f75f",
   "metadata": {},
   "outputs": [],
   "source": [
    "## Adding more complexity to my prompt\n",
    "prompt=ChatPromptTemplate.from_messages(\n",
    "    [\n",
    "        (\"system\",\"you are a helpful assistant . answer all questions to the best of your ability in this {language}\"),\n",
    "        MessagesPlaceholder(variable_name=\"messages\")\n",
    "])\n",
    "\n",
    "chain=prompt|model"
   ]
  },
  {
   "cell_type": "code",
   "execution_count": 24,
   "id": "c07c216a",
   "metadata": {},
   "outputs": [
    {
     "data": {
      "text/plain": [
       "'नमस्ते काफ़िल असलम!  \\n\\nआप मुझसे कुछ भी पूछ सकते हैं, मैं अपनी पूरी कोशिश करूंगा आपको मदद करने के लिए। 😊 \\n\\nआपका सवाल क्या है?  \\n'"
      ]
     },
     "execution_count": 24,
     "metadata": {},
     "output_type": "execute_result"
    }
   ],
   "source": [
    "## whenever i need to invoke this chain there are multiple parameters which i need to give\n",
    "response=chain.invoke({\"messages\":[HumanMessage(content=\"hi my name is kafil aslam\")],\"language\":\"hindi\"})\n",
    "response.content"
   ]
  },
  {
   "cell_type": "markdown",
   "id": "48149eb0",
   "metadata": {},
   "source": [
    "lets now wrap  this complicated chain in message history class . this time , bcz there are multiple keys as input , we need to specify correct key to use to save gthe chat history"
   ]
  },
  {
   "cell_type": "code",
   "execution_count": 25,
   "id": "385eec15",
   "metadata": {},
   "outputs": [],
   "source": [
    "with_message_history=RunnableWithMessageHistory(\n",
    "    chain,\n",
    "    get_session_history,\n",
    "    input_messages_key=\"messages\",\n",
    "    \n",
    ")"
   ]
  },
  {
   "cell_type": "code",
   "execution_count": 35,
   "id": "ff9f81cb",
   "metadata": {},
   "outputs": [
    {
     "data": {
      "text/plain": [
       "'Hi Kafil! 👋 Nice to meet you. What can I do for you today?  \\n'"
      ]
     },
     "execution_count": 35,
     "metadata": {},
     "output_type": "execute_result"
    }
   ],
   "source": [
    "config4={\"configurable\":{\"session_id\":\"chat4\"}}\n",
    "response=with_message_history.invoke(\n",
    "    {'messages':[HumanMessage(content='hi i am kafil')],\"language\":\"English\"},\n",
    "    config=config4\n",
    ")\n",
    "response.content"
   ]
  },
  {
   "cell_type": "code",
   "execution_count": 39,
   "id": "aaa9a8cc",
   "metadata": {},
   "outputs": [
    {
     "data": {
      "text/plain": [
       "\"Your name is Kafil.  \\n\\nIs there anything else you'd like to know or talk about?  I'm here to help! 😊 \\n\""
      ]
     },
     "execution_count": 39,
     "metadata": {},
     "output_type": "execute_result"
    }
   ],
   "source": [
    "response=with_message_history.invoke(\n",
    "    {'messages':[HumanMessage(content='whats my name')],\"language\":\"English\"},\n",
    "    config=config4\n",
    ")\n",
    "response.content"
   ]
  },
  {
   "cell_type": "markdown",
   "id": "d525eecb",
   "metadata": {},
   "source": [
    "## Managing the Conversation History\n",
    "\n",
    "one important concept to understand when building chatbots is how to manage conversation history. if left unmanaged , the list of messages will grow unbounded  and potentially overflow the context window of the LLM. Therefore , it is important to add a step that limits the size of messages that we are passing in . \n",
    "\n",
    "\"trim_messages\" helper is to reduce how many messages we're sending to the model . The Trimmer allows us to specify how many tokens we want to keep , along with other parameters like if we wnt to always keep the system message and weather to allow partial messages"
   ]
  },
  {
   "cell_type": "code",
   "execution_count": 42,
   "id": "e09f6f8b",
   "metadata": {},
   "outputs": [
    {
     "data": {
      "text/plain": [
       "[SystemMessage(content='you r a good assistant', additional_kwargs={}, response_metadata={}),\n",
       " HumanMessage(content='whats 2 + 2', additional_kwargs={}, response_metadata={}),\n",
       " AIMessage(content='4', additional_kwargs={}, response_metadata={}),\n",
       " HumanMessage(content='thanks', additional_kwargs={}, response_metadata={}),\n",
       " AIMessage(content='no problem', additional_kwargs={}, response_metadata={}),\n",
       " HumanMessage(content='having fun', additional_kwargs={}, response_metadata={}),\n",
       " AIMessage(content='yes!', additional_kwargs={}, response_metadata={})]"
      ]
     },
     "execution_count": 42,
     "metadata": {},
     "output_type": "execute_result"
    }
   ],
   "source": [
    "from langchain_core.messages import SystemMessage,trim_messages\n",
    "\n",
    "trimmer=trim_messages(\n",
    "    max_tokens=40,\n",
    "    strategy=\"last\",\n",
    "    token_counter=model,\n",
    "    include_system=True,\n",
    "    allow_partial=False,\n",
    "    start_on=\"human\"\n",
    "\n",
    "\n",
    "\n",
    ")\n",
    "\n",
    "messages=[\n",
    "    SystemMessage(content=\"you r a good assistant\"),\n",
    "    HumanMessage(content=\"hi , i am bob\"),\n",
    "    AIMessage(content=\"hi!\"),\n",
    "    HumanMessage(content=\"i like vanilla ice cream\"),\n",
    "    AIMessage(content=\"nice\"),\n",
    "    HumanMessage(content=\"whats 2 + 2\"),\n",
    "    AIMessage(content=\"4\"),\n",
    "    HumanMessage(content=\"thanks\"),\n",
    "    AIMessage(content=\"no problem\"),\n",
    "    HumanMessage(content=\"having fun\"),\n",
    "    AIMessage(content=\"yes!\"),\n",
    "]\n",
    "\n",
    "trimmer.invoke(messages)\n",
    "\n",
    "\n"
   ]
  },
  {
   "cell_type": "code",
   "execution_count": 45,
   "id": "b16809ef",
   "metadata": {},
   "outputs": [
    {
     "data": {
      "text/plain": [
       "\"As an AI, I don't have access to your personal information, including your ice cream preferences. \\n\\nWhat's your favorite flavor? 😊  🍦\\n\""
      ]
     },
     "execution_count": 45,
     "metadata": {},
     "output_type": "execute_result"
    }
   ],
   "source": [
    "from operator import itemgetter\n",
    "from langchain_core.runnables import RunnablePassthrough\n",
    "\n",
    "chain=(\n",
    "    RunnablePassthrough.assign(messages=itemgetter(\"messages\")|trimmer)\n",
    "    |prompt\n",
    "    |model\n",
    ")\n",
    "\n",
    "response=chain.invoke({\n",
    "    \"messages\":messages + [HumanMessage(content=\"what ice cream do i like ?\")],\n",
    "    \"language\":\"english\"\n",
    "}\n",
    ")\n",
    "response.content"
   ]
  },
  {
   "cell_type": "code",
   "execution_count": 46,
   "id": "a553d554",
   "metadata": {},
   "outputs": [
    {
     "data": {
      "text/plain": [
       "'You asked: \" whats 2 + 2\" \\n\\n\\nLet me know if you want to try another one! 😊  \\n'"
      ]
     },
     "execution_count": 46,
     "metadata": {},
     "output_type": "execute_result"
    }
   ],
   "source": [
    "response=chain.invoke({\n",
    "    \"messages\":messages + [HumanMessage(content=\"what math problem did i asked\")],\n",
    "    \"language\":\"english\"\n",
    "}\n",
    ")\n",
    "response.content"
   ]
  },
  {
   "cell_type": "code",
   "execution_count": 47,
   "id": "64422e7b",
   "metadata": {},
   "outputs": [],
   "source": [
    "## lets wrap inside message history\n",
    "with_message_history=RunnableWithMessageHistory(\n",
    "    chain,\n",
    "    get_session_history,\n",
    "    input_messages_key=\"messages\",\n",
    ")\n",
    "config5={\"configurable\":{\"session_id\":\"chat5\"}}\n",
    "\n"
   ]
  },
  {
   "cell_type": "code",
   "execution_count": null,
   "id": "9d3d04d8",
   "metadata": {},
   "outputs": [
    {
     "data": {
      "text/plain": [
       "\"As an AI, I have no memory of past conversations and don't know your name.  What's your name? 😊  \\n\""
      ]
     },
     "execution_count": 49,
     "metadata": {},
     "output_type": "execute_result"
    }
   ],
   "source": [
    "response=with_message_history.invoke(\n",
    "    {\n",
    "        \"messages\":messages + [HumanMessage(content=\"whats my name\")],\n",
    "        \"language\":\"english\"\n",
    "    },\n",
    "    config=config5\n",
    ")\n",
    "response.content"
   ]
  },
  {
   "cell_type": "code",
   "execution_count": null,
   "id": "6b48339f",
   "metadata": {},
   "outputs": [],
   "source": []
  }
 ],
 "metadata": {
  "kernelspec": {
   "display_name": "Python 3",
   "language": "python",
   "name": "python3"
  },
  "language_info": {
   "codemirror_mode": {
    "name": "ipython",
    "version": 3
   },
   "file_extension": ".py",
   "mimetype": "text/x-python",
   "name": "python",
   "nbconvert_exporter": "python",
   "pygments_lexer": "ipython3",
   "version": "3.10.0"
  }
 },
 "nbformat": 4,
 "nbformat_minor": 5
}
