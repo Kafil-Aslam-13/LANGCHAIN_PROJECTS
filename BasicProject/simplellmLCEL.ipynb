{
 "cells": [
  {
   "cell_type": "code",
   "execution_count": null,
   "id": "d3f91b22",
   "metadata": {},
   "outputs": [],
   "source": [
    "## Open AI API Key and Open Source models -- Llama3,Gemma2,mistral--groq\n",
    "import os\n",
    "from dotenv import load_dotenv\n",
    "load_dotenv()\n",
    "\n",
    "# load  openai api key\n",
    "import openai\n",
    "openai.api_key=os.getenv(\"OPENAI_API_KEY\")\n",
    "groq_api_key=os.getenv(\"GROQ_API_KEY\")"
   ]
  },
  {
   "cell_type": "code",
   "execution_count": null,
   "id": "44e3a364",
   "metadata": {},
   "outputs": [
    {
     "data": {
      "text/plain": [
       "ChatGroq(client=<groq.resources.chat.completions.Completions object at 0x00000186CF023310>, async_client=<groq.resources.chat.completions.AsyncCompletions object at 0x00000186CF020E50>, model_name='Gemma2-9b-It', model_kwargs={}, groq_api_key=SecretStr('**********'))"
      ]
     },
     "execution_count": 4,
     "metadata": {},
     "output_type": "execute_result"
    }
   ],
   "source": [
    "from langchain_groq import ChatGroq\n",
    "model=ChatGroq(model=\"Gemma2-9b-It\",groq_api_key=groq_api_key)\n",
    "model\n",
    "## now with help of this application we are going to create our whole application\n"
   ]
  },
  {
   "cell_type": "code",
   "execution_count": 7,
   "id": "8a22cf7b",
   "metadata": {},
   "outputs": [
    {
     "data": {
      "text/plain": [
       "AIMessage(content='Bonjour, comment allez-vous ? \\n\\n\\nYou can also use:\\n\\n* **Salut, comment vas-tu ?**  (informal, used with friends)\\n* **Coucou, comment allez-vous ?** (informal, more casual)\\n', additional_kwargs={}, response_metadata={'token_usage': {'completion_tokens': 55, 'prompt_tokens': 21, 'total_tokens': 76, 'completion_time': 0.1, 'prompt_time': 0.001322239, 'queue_time': 0.247433051, 'total_time': 0.101322239}, 'model_name': 'Gemma2-9b-It', 'system_fingerprint': 'fp_10c08bf97d', 'service_tier': 'on_demand', 'finish_reason': 'stop', 'logprobs': None}, id='run--c8a061df-0c25-4988-9e0f-c5a68e2dab18-0', usage_metadata={'input_tokens': 21, 'output_tokens': 55, 'total_tokens': 76})"
      ]
     },
     "execution_count": 7,
     "metadata": {},
     "output_type": "execute_result"
    }
   ],
   "source": [
    "## whenever i want to interact, i.e user gives query , buliding llm application basically means if i m giving query to my llm model , my model should be able to give me some response\n",
    "## but we should understand some key libtraries that r specifically used in langchain which we also see it as runnables \n",
    "# common libraries : langchain_core\n",
    "from langchain_core.messages import HumanMessage,SystemMessage\n",
    "## why these system and human messages are important . whenever we provide any message to our llm model , we should specicy to our llm model which message is  provided by human being and which mesaage is kind of an instruction to llm model\n",
    "messages=[\n",
    "    SystemMessage(content=\"Translate the following from english to French\"),\n",
    "    HumanMessage(content=\"Hello how are you?\")\n",
    "]\n",
    "\n",
    "result=model.invoke(messages)\n",
    "result"
   ]
  },
  {
   "cell_type": "code",
   "execution_count": 8,
   "id": "7f9cf2fd",
   "metadata": {},
   "outputs": [
    {
     "data": {
      "text/plain": [
       "'Bonjour, comment allez-vous ? \\n\\n\\nYou can also use:\\n\\n* **Salut, comment vas-tu ?**  (informal, used with friends)\\n* **Coucou, comment allez-vous ?** (informal, more casual)\\n'"
      ]
     },
     "execution_count": 8,
     "metadata": {},
     "output_type": "execute_result"
    }
   ],
   "source": [
    "## we want to retrieve op from results with help of output parser which will dispaly message coming as op of llm model\n",
    "from langchain_core.output_parsers import StrOutputParser\n",
    "parser=StrOutputParser()\n",
    "parser.invoke(result)"
   ]
  },
  {
   "cell_type": "code",
   "execution_count": 9,
   "id": "24374113",
   "metadata": {},
   "outputs": [
    {
     "data": {
      "text/plain": [
       "'Bonjour, comment allez-vous ? \\n\\n\\nThis is the most common and formal way to say \"Hello, how are you?\" in French. \\n\\nHere are some other options:\\n\\n*  **Salut, ça va ?** (Informal, used with friends or family)\\n* **Coucou, comment vas-tu ?** (Very informal, used with close friends)\\n* **Bonjour, comment allez-vous ?** (Formal, used with strangers or people you respect)\\n\\n\\n\\nLet me know if you have any other phrases you\\'d like translated!\\n'"
      ]
     },
     "execution_count": 9,
     "metadata": {},
     "output_type": "execute_result"
    }
   ],
   "source": [
    "## there is also somethimng called as lcel which help in chaining components\n",
    "## using LCEL\n",
    "chain=model|parser\n",
    "chain.invoke(messages)"
   ]
  },
  {
   "cell_type": "code",
   "execution_count": 10,
   "id": "087b41e8",
   "metadata": {},
   "outputs": [],
   "source": [
    "##  instead of passing message we can u another eficient technique known as prompt templates\n",
    "from langchain_core.prompts import ChatPromptTemplate\n",
    "generic_template=\"Translate the following into {language}:\"\n",
    "\n",
    "prompt=ChatPromptTemplate.from_messages([\n",
    "    (\"system\",generic_template),\n",
    "    (\"user\",\"{text}\")\n",
    "    ])\n"
   ]
  },
  {
   "cell_type": "code",
   "execution_count": 12,
   "id": "9b4a12a3",
   "metadata": {},
   "outputs": [
    {
     "data": {
      "text/plain": [
       "ChatPromptValue(messages=[SystemMessage(content='Translate the following into French:', additional_kwargs={}, response_metadata={}), HumanMessage(content='hello', additional_kwargs={}, response_metadata={})])"
      ]
     },
     "execution_count": 12,
     "metadata": {},
     "output_type": "execute_result"
    }
   ],
   "source": [
    "result=prompt.invoke({\"language\":\"French\",\"text\":\"hello\"})\n",
    "result"
   ]
  },
  {
   "cell_type": "code",
   "execution_count": 13,
   "id": "ba5e8b3e",
   "metadata": {},
   "outputs": [
    {
     "data": {
      "text/plain": [
       "[SystemMessage(content='Translate the following into French:', additional_kwargs={}, response_metadata={}),\n",
       " HumanMessage(content='hello', additional_kwargs={}, response_metadata={})]"
      ]
     },
     "execution_count": 13,
     "metadata": {},
     "output_type": "execute_result"
    }
   ],
   "source": [
    "result.to_messages()"
   ]
  },
  {
   "cell_type": "code",
   "execution_count": 16,
   "id": "b4096a43",
   "metadata": {},
   "outputs": [
    {
     "data": {
      "text/plain": [
       "'Bonjour monsieur. \\n'"
      ]
     },
     "execution_count": 16,
     "metadata": {},
     "output_type": "execute_result"
    }
   ],
   "source": [
    "chain=prompt|model|parser\n",
    "chain.invoke({\"language\":\"French\",\"text\":\"Hello sir\"})"
   ]
  },
  {
   "cell_type": "code",
   "execution_count": null,
   "id": "6b54d984",
   "metadata": {},
   "outputs": [],
   "source": [
    "## Langserve Helps developers Deploy Langchain runnable and Chains as a REST API's\n",
    "## langservew is integrated with fast api"
   ]
  }
 ],
 "metadata": {
  "kernelspec": {
   "display_name": "Python 3",
   "language": "python",
   "name": "python3"
  },
  "language_info": {
   "codemirror_mode": {
    "name": "ipython",
    "version": 3
   },
   "file_extension": ".py",
   "mimetype": "text/x-python",
   "name": "python",
   "nbconvert_exporter": "python",
   "pygments_lexer": "ipython3",
   "version": "3.10.0"
  }
 },
 "nbformat": 4,
 "nbformat_minor": 5
}
